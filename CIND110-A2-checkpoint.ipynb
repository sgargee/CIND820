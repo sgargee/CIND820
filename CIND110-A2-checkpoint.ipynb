{
 "cells": [
  {
   "cell_type": "code",
   "execution_count": 4,
   "metadata": {},
   "outputs": [
    {
     "name": "stdout",
     "output_type": "stream",
     "text": [
      "<mysql.connector.connection_cext.CMySQLConnection object at 0x0000025392167C48>\n"
     ]
    }
   ],
   "source": [
    "import mysql.connector\n",
    "\n",
    "db = mysql.connector.connect(\n",
    "   host=\"localhost\",\n",
    "   user=\"root\",\n",
    "   passwd=\"data\",\n",
    "   db = \"registrardb\"\n",
    ")\n",
    "\n",
    "print(db)"
   ]
  },
  {
   "cell_type": "code",
   "execution_count": 5,
   "metadata": {},
   "outputs": [],
   "source": [
    "import pandas as pd"
   ]
  },
  {
   "cell_type": "code",
   "execution_count": 4,
   "metadata": {},
   "outputs": [
    {
     "name": "stdout",
     "output_type": "stream",
     "text": [
      "List the names, ids and major of students who are majored in Computer Engineering -(CE)\n",
      "\n",
      "|    |   St_ID | St_Name   | Major   |\n",
      "|---:|--------:|:----------|:--------|\n",
      "|  0 |   15013 | Dara      | CE      |\n",
      "|  1 |   16009 | Alice     | CE      |\n",
      "|  2 |   19009 | Lary      | CE      |\n",
      "|  3 |   20102 | Xue       | CE      |\n"
     ]
    }
   ],
   "source": [
    "print(\"List the names, ids and major of students who are majored in Computer Engineering -(CE)\\n\")\n",
    "q1 = pd.DataFrame(pd.read_sql_query(\"\"\"\n",
    "                       SELECT St_ID,St_Name,Major\n",
    "                       FROM Student\n",
    "                       where Major = 'CE'\n",
    "                       \"\"\",\n",
    "                       db\n",
    "                       ))\n",
    "print(q1.to_markdown()) "
   ]
  },
  {
   "cell_type": "code",
   "execution_count": 5,
   "metadata": {},
   "outputs": [
    {
     "data": {
      "text/html": [
       "<div>\n",
       "<style scoped>\n",
       "    .dataframe tbody tr th:only-of-type {\n",
       "        vertical-align: middle;\n",
       "    }\n",
       "\n",
       "    .dataframe tbody tr th {\n",
       "        vertical-align: top;\n",
       "    }\n",
       "\n",
       "    .dataframe thead th {\n",
       "        text-align: right;\n",
       "    }\n",
       "</style>\n",
       "<table border=\"1\" class=\"dataframe\">\n",
       "  <thead>\n",
       "    <tr style=\"text-align: right;\">\n",
       "      <th></th>\n",
       "      <th>St_ID</th>\n",
       "      <th>St_Name</th>\n",
       "      <th>Major</th>\n",
       "      <th>GPA</th>\n",
       "    </tr>\n",
       "  </thead>\n",
       "  <tbody>\n",
       "    <tr>\n",
       "      <th>0</th>\n",
       "      <td>15010</td>\n",
       "      <td>Kyle</td>\n",
       "      <td>CS</td>\n",
       "      <td>3.50</td>\n",
       "    </tr>\n",
       "    <tr>\n",
       "      <th>1</th>\n",
       "      <td>15011</td>\n",
       "      <td>Mina</td>\n",
       "      <td>CS</td>\n",
       "      <td>3.60</td>\n",
       "    </tr>\n",
       "    <tr>\n",
       "      <th>2</th>\n",
       "      <td>15014</td>\n",
       "      <td>Ali</td>\n",
       "      <td>INE</td>\n",
       "      <td>3.70</td>\n",
       "    </tr>\n",
       "    <tr>\n",
       "      <th>3</th>\n",
       "      <td>16005</td>\n",
       "      <td>Rona</td>\n",
       "      <td>MATH</td>\n",
       "      <td>3.90</td>\n",
       "    </tr>\n",
       "    <tr>\n",
       "      <th>4</th>\n",
       "      <td>17011</td>\n",
       "      <td>Mary</td>\n",
       "      <td>CS</td>\n",
       "      <td>3.50</td>\n",
       "    </tr>\n",
       "    <tr>\n",
       "      <th>5</th>\n",
       "      <td>19003</td>\n",
       "      <td>Peter</td>\n",
       "      <td>MATH</td>\n",
       "      <td>3.90</td>\n",
       "    </tr>\n",
       "    <tr>\n",
       "      <th>6</th>\n",
       "      <td>19007</td>\n",
       "      <td>Roy</td>\n",
       "      <td>MATH</td>\n",
       "      <td>3.75</td>\n",
       "    </tr>\n",
       "    <tr>\n",
       "      <th>7</th>\n",
       "      <td>19009</td>\n",
       "      <td>Lary</td>\n",
       "      <td>CE</td>\n",
       "      <td>3.85</td>\n",
       "    </tr>\n",
       "    <tr>\n",
       "      <th>8</th>\n",
       "      <td>20101</td>\n",
       "      <td>Arya</td>\n",
       "      <td>Art</td>\n",
       "      <td>3.75</td>\n",
       "    </tr>\n",
       "  </tbody>\n",
       "</table>\n",
       "</div>"
      ],
      "text/plain": [
       "   St_ID St_Name Major   GPA\n",
       "0  15010    Kyle    CS  3.50\n",
       "1  15011    Mina    CS  3.60\n",
       "2  15014     Ali   INE  3.70\n",
       "3  16005    Rona  MATH  3.90\n",
       "4  17011    Mary    CS  3.50\n",
       "5  19003   Peter  MATH  3.90\n",
       "6  19007     Roy  MATH  3.75\n",
       "7  19009    Lary    CE  3.85\n",
       "8  20101    Arya   Art  3.75"
      ]
     },
     "execution_count": 5,
     "metadata": {},
     "output_type": "execute_result"
    }
   ],
   "source": [
    "q2 = pd.DataFrame(pd.read_sql_query(\"\"\"\n",
    "                       SELECT St_ID,St_Name,Major,GPA\n",
    "                       FROM student\n",
    "                       where GPA >= 3.5\n",
    "                       \"\"\",\n",
    "                       db\n",
    "                       ))\n",
    "q2\n",
    "# print(q2.to_markdown())"
   ]
  },
  {
   "cell_type": "code",
   "execution_count": 5,
   "metadata": {},
   "outputs": [
    {
     "name": "stdout",
     "output_type": "stream",
     "text": [
      "|    | StudentName   | CourseName   | CourseId   | Term   |   Year | ProfName   |   Grade |\n",
      "|---:|:--------------|:-------------|:-----------|:-------|-------:|:-----------|--------:|\n",
      "|  0 | David         | Data Mining  | CIND850    | Summer |   2021 | Smith      |    3.45 |\n"
     ]
    }
   ],
   "source": [
    "q3 = pd.DataFrame(pd.read_sql_query(\"\"\"\n",
    "   select  st.St_Name as StudentName, c.C_Name as CourseName,c.C_Id as CourseId\n",
    "   , sc.Term, sc.Year,sc.P_Name as ProfName,g.Grade\n",
    "    from student as st\n",
    "        left join grade as g \t\ton g.St_ID = st.St_Id\n",
    "        left join section as sc\t\ton sc.S_Id = g.S_Id\n",
    "        left join course as c\t\ton c.C_Id = sc.C_Id\n",
    "        where St_Name  = 'David'\n",
    "                       \"\"\",\n",
    "                       db\n",
    "                       ))\n",
    "print(q3.to_markdown())"
   ]
  },
  {
   "cell_type": "code",
   "execution_count": 6,
   "metadata": {},
   "outputs": [
    {
     "name": "stdout",
     "output_type": "stream",
     "text": [
      "|    | St_Name   |   St_Id |   S_Id | C_Id   | Term   |   Year | P_Name   |   Grade |\n",
      "|---:|:----------|--------:|-------:|:-------|:-------|-------:|:---------|--------:|\n",
      "|  0 | Dara      |   15013 |     25 | CPS510 | Summer |   2019 | Smith    |    3.95 |\n"
     ]
    }
   ],
   "source": [
    "q4 = pd.DataFrame(pd.read_sql_query(\"\"\"\n",
    "   select st.St_Name, st.St_Id, sc.S_Id, sc.C_Id, sc.Term, sc.Year, P_Name, g.Grade\n",
    "        from section sc\n",
    "            left join grade g\t\t\ton g.S_ID = sc.S_ID\n",
    "            inner join student  st\t\ton g.St_Id = st.St_Id\n",
    "            where C_Id = 'CPS510'\n",
    "\n",
    "                       \"\"\",\n",
    "                       db\n",
    "                       ))\n",
    "print(q4.to_markdown())"
   ]
  },
  {
   "cell_type": "code",
   "execution_count": null,
   "metadata": {},
   "outputs": [],
   "source": []
  },
  {
   "cell_type": "code",
   "execution_count": null,
   "metadata": {},
   "outputs": [],
   "source": []
  },
  {
   "cell_type": "code",
   "execution_count": null,
   "metadata": {},
   "outputs": [],
   "source": []
  },
  {
   "cell_type": "code",
   "execution_count": null,
   "metadata": {},
   "outputs": [],
   "source": []
  },
  {
   "cell_type": "code",
   "execution_count": null,
   "metadata": {},
   "outputs": [],
   "source": []
  }
 ],
 "metadata": {
  "kernelspec": {
   "display_name": "Python 3",
   "language": "python",
   "name": "python3"
  },
  "language_info": {
   "codemirror_mode": {
    "name": "ipython",
    "version": 3
   },
   "file_extension": ".py",
   "mimetype": "text/x-python",
   "name": "python",
   "nbconvert_exporter": "python",
   "pygments_lexer": "ipython3",
   "version": "3.7.6"
  }
 },
 "nbformat": 4,
 "nbformat_minor": 4
}
